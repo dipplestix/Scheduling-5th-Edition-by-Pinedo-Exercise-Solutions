{
 "cells": [
  {
   "cell_type": "code",
   "execution_count": 1,
   "metadata": {
    "collapsed": true
   },
   "outputs": [],
   "source": [
    "import itertools\n",
    "import numpy as np\n",
    "from julia.api import Julia\n",
    "jl = Julia(compiled_modules=False)\n",
    "jl.eval('include(\"objectives.jl\")')\n",
    "jl.eval('include(\"helpers.jl\")')\n",
    "from julia import Main\n"
   ]
  },
  {
   "cell_type": "code",
   "execution_count": null,
   "outputs": [],
   "source": [
    "# Problem 1\n",
    "jobs = [1, 2, 3, 4]\n",
    "w = [6, 11, 9, 5]\n",
    "p = [3, 5, 7, 4]\n",
    "\n",
    "Main.p = p\n",
    "Main.w = w"
   ],
   "metadata": {
    "collapsed": false,
    "pycharm": {
     "name": "#%%\n"
    }
   }
  },
  {
   "cell_type": "code",
   "execution_count": 4,
   "outputs": [
    {
     "name": "stdout",
     "output_type": "stream",
     "text": [
      "The best sequence is (2, 1, 3, 4) with an objective value of 333.0\n"
     ]
    }
   ],
   "source": [
    "# a\n",
    "\n",
    "best = np.inf\n",
    "for seq in itertools.permutations(jobs, 4):\n",
    "    Main.seq = seq\n",
    "    Main.cs = jl.eval('find_completion(seq, p)')\n",
    "    # Main.ws = jl.eval('find_weights(seq, w)')\n",
    "    obj = jl.eval('weighted_completion(cs, w)')\n",
    "    if obj < best:\n",
    "        best = obj\n",
    "        best_seq = seq\n",
    "print(f'The best sequence is {best_seq} with an objective value of {best}')\n"
   ],
   "metadata": {
    "collapsed": false,
    "pycharm": {
     "name": "#%%\n"
    }
   }
  },
  {
   "cell_type": "code",
   "execution_count": 8,
   "outputs": [
    {
     "data": {
      "text/plain": "333"
     },
     "execution_count": 8,
     "metadata": {},
     "output_type": "execute_result"
    }
   ],
   "source": [],
   "metadata": {
    "collapsed": false,
    "pycharm": {
     "name": "#%%\n"
    }
   }
  }
 ],
 "metadata": {
  "kernelspec": {
   "display_name": "Python 3",
   "language": "python",
   "name": "python3"
  },
  "language_info": {
   "codemirror_mode": {
    "name": "ipython",
    "version": 2
   },
   "file_extension": ".py",
   "mimetype": "text/x-python",
   "name": "python",
   "nbconvert_exporter": "python",
   "pygments_lexer": "ipython2",
   "version": "2.7.6"
  }
 },
 "nbformat": 4,
 "nbformat_minor": 0
}